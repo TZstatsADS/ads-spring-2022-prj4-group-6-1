{
 "cells": [
  {
   "cell_type": "markdown",
   "metadata": {},
   "source": [
    "## Read in Data"
   ]
  },
  {
   "cell_type": "code",
   "execution_count": 115,
   "metadata": {},
   "outputs": [
    {
     "data": {
      "text/plain": [
       "<Figure size 3240x2880 with 0 Axes>"
      ]
     },
     "metadata": {},
     "output_type": "display_data"
    }
   ],
   "source": [
    "import pandas as pd\n",
    "import numpy as np\n",
    "import math\n",
    "import copy\n",
    "import itertools\n",
    "import matplotlib.pyplot as plt\n",
    "from matplotlib.pyplot import figure\n",
    "figure(figsize=(18, 16), dpi=180)\n",
    "\n",
    "from sklearn.preprocessing import StandardScaler, LabelEncoder\n",
    "from sklearn.model_selection import train_test_split, cross_val_score\n",
    "from sklearn.linear_model import LogisticRegression\n",
    "from sklearn.metrics import roc_auc_score, accuracy_score, precision_score, recall_score\n",
    "\n",
    "pd.set_option('display.max_columns', None)"
   ]
  },
  {
   "cell_type": "code",
   "execution_count": 2,
   "metadata": {},
   "outputs": [
    {
     "data": {
      "text/html": [
       "<div>\n",
       "<style scoped>\n",
       "    .dataframe tbody tr th:only-of-type {\n",
       "        vertical-align: middle;\n",
       "    }\n",
       "\n",
       "    .dataframe tbody tr th {\n",
       "        vertical-align: top;\n",
       "    }\n",
       "\n",
       "    .dataframe thead th {\n",
       "        text-align: right;\n",
       "    }\n",
       "</style>\n",
       "<table border=\"1\" class=\"dataframe\">\n",
       "  <thead>\n",
       "    <tr style=\"text-align: right;\">\n",
       "      <th></th>\n",
       "      <th>age</th>\n",
       "      <th>c_charge_degree</th>\n",
       "      <th>race</th>\n",
       "      <th>v_score_text</th>\n",
       "      <th>sex</th>\n",
       "      <th>priors_count</th>\n",
       "      <th>days_b_screening_arrest</th>\n",
       "      <th>decile_score</th>\n",
       "      <th>is_recid</th>\n",
       "      <th>two_year_recid</th>\n",
       "      <th>c_jail_in</th>\n",
       "      <th>c_jail_out</th>\n",
       "    </tr>\n",
       "  </thead>\n",
       "  <tbody>\n",
       "    <tr>\n",
       "      <td>0</td>\n",
       "      <td>69</td>\n",
       "      <td>F</td>\n",
       "      <td>Other</td>\n",
       "      <td>Low</td>\n",
       "      <td>Male</td>\n",
       "      <td>0</td>\n",
       "      <td>-1.0</td>\n",
       "      <td>1</td>\n",
       "      <td>0</td>\n",
       "      <td>0</td>\n",
       "      <td>2013-08-13 06:03:42</td>\n",
       "      <td>2013-08-14 05:41:20</td>\n",
       "    </tr>\n",
       "    <tr>\n",
       "      <td>1</td>\n",
       "      <td>34</td>\n",
       "      <td>F</td>\n",
       "      <td>African-American</td>\n",
       "      <td>Low</td>\n",
       "      <td>Male</td>\n",
       "      <td>0</td>\n",
       "      <td>-1.0</td>\n",
       "      <td>3</td>\n",
       "      <td>1</td>\n",
       "      <td>1</td>\n",
       "      <td>2013-01-26 03:45:27</td>\n",
       "      <td>2013-02-05 05:36:53</td>\n",
       "    </tr>\n",
       "    <tr>\n",
       "      <td>2</td>\n",
       "      <td>24</td>\n",
       "      <td>F</td>\n",
       "      <td>African-American</td>\n",
       "      <td>Low</td>\n",
       "      <td>Male</td>\n",
       "      <td>4</td>\n",
       "      <td>-1.0</td>\n",
       "      <td>4</td>\n",
       "      <td>1</td>\n",
       "      <td>1</td>\n",
       "      <td>2013-04-13 04:58:34</td>\n",
       "      <td>2013-04-14 07:02:04</td>\n",
       "    </tr>\n",
       "    <tr>\n",
       "      <td>3</td>\n",
       "      <td>23</td>\n",
       "      <td>F</td>\n",
       "      <td>African-American</td>\n",
       "      <td>Medium</td>\n",
       "      <td>Male</td>\n",
       "      <td>1</td>\n",
       "      <td>NaN</td>\n",
       "      <td>8</td>\n",
       "      <td>0</td>\n",
       "      <td>0</td>\n",
       "      <td>NaN</td>\n",
       "      <td>NaN</td>\n",
       "    </tr>\n",
       "    <tr>\n",
       "      <td>4</td>\n",
       "      <td>43</td>\n",
       "      <td>F</td>\n",
       "      <td>Other</td>\n",
       "      <td>Low</td>\n",
       "      <td>Male</td>\n",
       "      <td>2</td>\n",
       "      <td>NaN</td>\n",
       "      <td>1</td>\n",
       "      <td>0</td>\n",
       "      <td>0</td>\n",
       "      <td>NaN</td>\n",
       "      <td>NaN</td>\n",
       "    </tr>\n",
       "  </tbody>\n",
       "</table>\n",
       "</div>"
      ],
      "text/plain": [
       "   age c_charge_degree              race v_score_text   sex  priors_count  \\\n",
       "0   69               F             Other          Low  Male             0   \n",
       "1   34               F  African-American          Low  Male             0   \n",
       "2   24               F  African-American          Low  Male             4   \n",
       "3   23               F  African-American       Medium  Male             1   \n",
       "4   43               F             Other          Low  Male             2   \n",
       "\n",
       "   days_b_screening_arrest  decile_score  is_recid  two_year_recid  \\\n",
       "0                     -1.0             1         0               0   \n",
       "1                     -1.0             3         1               1   \n",
       "2                     -1.0             4         1               1   \n",
       "3                      NaN             8         0               0   \n",
       "4                      NaN             1         0               0   \n",
       "\n",
       "             c_jail_in           c_jail_out  \n",
       "0  2013-08-13 06:03:42  2013-08-14 05:41:20  \n",
       "1  2013-01-26 03:45:27  2013-02-05 05:36:53  \n",
       "2  2013-04-13 04:58:34  2013-04-14 07:02:04  \n",
       "3                  NaN                  NaN  \n",
       "4                  NaN                  NaN  "
      ]
     },
     "execution_count": 2,
     "metadata": {},
     "output_type": "execute_result"
    }
   ],
   "source": [
    "link = ('https://raw.githubusercontent.com/'\n",
    "        'propublica/compas-analysis/master/compas-scores-two-years.csv')\n",
    "feature = ['age', 'c_charge_degree', 'race', 'v_score_text', 'sex', 'priors_count', \n",
    "           'days_b_screening_arrest', 'decile_score', 'is_recid', 'two_year_recid','c_jail_in', 'c_jail_out']\n",
    "raw = pd.read_csv(link)[feature]\n",
    "raw.head()"
   ]
  },
  {
   "cell_type": "markdown",
   "metadata": {},
   "source": [
    "## Data Cleaning and Transformation"
   ]
  },
  {
   "cell_type": "markdown",
   "metadata": {},
   "source": [
    "· **Race**: Caucasian (2087) and African-American (3247)"
   ]
  },
  {
   "cell_type": "code",
   "execution_count": 3,
   "metadata": {
    "scrolled": true
   },
   "outputs": [
    {
     "data": {
      "text/html": [
       "<div>\n",
       "<style scoped>\n",
       "    .dataframe tbody tr th:only-of-type {\n",
       "        vertical-align: middle;\n",
       "    }\n",
       "\n",
       "    .dataframe tbody tr th {\n",
       "        vertical-align: top;\n",
       "    }\n",
       "\n",
       "    .dataframe thead th {\n",
       "        text-align: right;\n",
       "    }\n",
       "</style>\n",
       "<table border=\"1\" class=\"dataframe\">\n",
       "  <thead>\n",
       "    <tr style=\"text-align: right;\">\n",
       "      <th></th>\n",
       "      <th>age</th>\n",
       "      <th>c_charge_degree</th>\n",
       "      <th>race</th>\n",
       "      <th>v_score_text</th>\n",
       "      <th>sex</th>\n",
       "      <th>priors_count</th>\n",
       "      <th>decile_score</th>\n",
       "      <th>is_recid</th>\n",
       "      <th>two_year_recid</th>\n",
       "      <th>length_of_stay</th>\n",
       "    </tr>\n",
       "  </thead>\n",
       "  <tbody>\n",
       "    <tr>\n",
       "      <td>1</td>\n",
       "      <td>34</td>\n",
       "      <td>F</td>\n",
       "      <td>African-American</td>\n",
       "      <td>Low</td>\n",
       "      <td>Male</td>\n",
       "      <td>0</td>\n",
       "      <td>3</td>\n",
       "      <td>1</td>\n",
       "      <td>1</td>\n",
       "      <td>10</td>\n",
       "    </tr>\n",
       "    <tr>\n",
       "      <td>2</td>\n",
       "      <td>24</td>\n",
       "      <td>F</td>\n",
       "      <td>African-American</td>\n",
       "      <td>Low</td>\n",
       "      <td>Male</td>\n",
       "      <td>4</td>\n",
       "      <td>4</td>\n",
       "      <td>1</td>\n",
       "      <td>1</td>\n",
       "      <td>1</td>\n",
       "    </tr>\n",
       "    <tr>\n",
       "      <td>6</td>\n",
       "      <td>41</td>\n",
       "      <td>F</td>\n",
       "      <td>Caucasian</td>\n",
       "      <td>Low</td>\n",
       "      <td>Male</td>\n",
       "      <td>14</td>\n",
       "      <td>6</td>\n",
       "      <td>1</td>\n",
       "      <td>1</td>\n",
       "      <td>6</td>\n",
       "    </tr>\n",
       "    <tr>\n",
       "      <td>8</td>\n",
       "      <td>39</td>\n",
       "      <td>M</td>\n",
       "      <td>Caucasian</td>\n",
       "      <td>Low</td>\n",
       "      <td>Female</td>\n",
       "      <td>0</td>\n",
       "      <td>1</td>\n",
       "      <td>0</td>\n",
       "      <td>0</td>\n",
       "      <td>2</td>\n",
       "    </tr>\n",
       "    <tr>\n",
       "      <td>10</td>\n",
       "      <td>27</td>\n",
       "      <td>F</td>\n",
       "      <td>Caucasian</td>\n",
       "      <td>Low</td>\n",
       "      <td>Male</td>\n",
       "      <td>0</td>\n",
       "      <td>4</td>\n",
       "      <td>0</td>\n",
       "      <td>0</td>\n",
       "      <td>1</td>\n",
       "    </tr>\n",
       "  </tbody>\n",
       "</table>\n",
       "</div>"
      ],
      "text/plain": [
       "    age c_charge_degree              race v_score_text     sex  priors_count  \\\n",
       "1    34               F  African-American          Low    Male             0   \n",
       "2    24               F  African-American          Low    Male             4   \n",
       "6    41               F         Caucasian          Low    Male            14   \n",
       "8    39               M         Caucasian          Low  Female             0   \n",
       "10   27               F         Caucasian          Low    Male             0   \n",
       "\n",
       "    decile_score  is_recid  two_year_recid  length_of_stay  \n",
       "1              3         1               1              10  \n",
       "2              4         1               1               1  \n",
       "6              6         1               1               6  \n",
       "8              1         0               0               2  \n",
       "10             4         0               0               1  "
      ]
     },
     "execution_count": 3,
     "metadata": {},
     "output_type": "execute_result"
    }
   ],
   "source": [
    "#basic cleaning according to the data page\n",
    "\n",
    "df = raw[(raw.race == 'Caucasian') | (raw.race == 'African-American')]\n",
    "df = df[(df.days_b_screening_arrest < 30) & (df.days_b_screening_arrest >= -30)]\n",
    "df.drop(columns=['days_b_screening_arrest'], inplace = True)\n",
    "df = df[df.is_recid != -1]\n",
    "df = df[df.c_charge_degree != 'O']\n",
    "df['length_of_stay'] = (pd.to_datetime(df[\"c_jail_out\"]) - pd.to_datetime(df['c_jail_in'])).dt.days\n",
    "df.drop(columns=['c_jail_in', 'c_jail_out'], inplace=True)\n",
    "\n",
    "df.head()"
   ]
  },
  {
   "cell_type": "markdown",
   "metadata": {},
   "source": [
    "· **Age**: age < 25, 25 < age < 45, age > 45  \n",
    "· **Charge Degree**: Misdemeanor or Felony  \n",
    "· **Gender**: Male or Female  \n",
    "· **Prior Counts**: 0, 1-3, larger than 3  \n",
    "· **Length of Stay**: <= 1 week, <= 3 months or > 3 months  "
   ]
  },
  {
   "cell_type": "code",
   "execution_count": 4,
   "metadata": {},
   "outputs": [
    {
     "data": {
      "text/html": [
       "<div>\n",
       "<style scoped>\n",
       "    .dataframe tbody tr th:only-of-type {\n",
       "        vertical-align: middle;\n",
       "    }\n",
       "\n",
       "    .dataframe tbody tr th {\n",
       "        vertical-align: top;\n",
       "    }\n",
       "\n",
       "    .dataframe thead th {\n",
       "        text-align: right;\n",
       "    }\n",
       "</style>\n",
       "<table border=\"1\" class=\"dataframe\">\n",
       "  <thead>\n",
       "    <tr style=\"text-align: right;\">\n",
       "      <th></th>\n",
       "      <th>race</th>\n",
       "      <th>age_cat</th>\n",
       "      <th>c_charge_degree</th>\n",
       "      <th>sex</th>\n",
       "      <th>priors_count_cat</th>\n",
       "      <th>length_cat</th>\n",
       "      <th>two_year_recid</th>\n",
       "    </tr>\n",
       "  </thead>\n",
       "  <tbody>\n",
       "    <tr>\n",
       "      <td>1</td>\n",
       "      <td>0</td>\n",
       "      <td>1</td>\n",
       "      <td>0</td>\n",
       "      <td>1</td>\n",
       "      <td>0</td>\n",
       "      <td>1</td>\n",
       "      <td>1</td>\n",
       "    </tr>\n",
       "    <tr>\n",
       "      <td>2</td>\n",
       "      <td>0</td>\n",
       "      <td>0</td>\n",
       "      <td>0</td>\n",
       "      <td>1</td>\n",
       "      <td>2</td>\n",
       "      <td>0</td>\n",
       "      <td>1</td>\n",
       "    </tr>\n",
       "    <tr>\n",
       "      <td>6</td>\n",
       "      <td>1</td>\n",
       "      <td>1</td>\n",
       "      <td>0</td>\n",
       "      <td>1</td>\n",
       "      <td>2</td>\n",
       "      <td>0</td>\n",
       "      <td>1</td>\n",
       "    </tr>\n",
       "    <tr>\n",
       "      <td>8</td>\n",
       "      <td>1</td>\n",
       "      <td>1</td>\n",
       "      <td>1</td>\n",
       "      <td>0</td>\n",
       "      <td>0</td>\n",
       "      <td>0</td>\n",
       "      <td>0</td>\n",
       "    </tr>\n",
       "    <tr>\n",
       "      <td>10</td>\n",
       "      <td>1</td>\n",
       "      <td>1</td>\n",
       "      <td>0</td>\n",
       "      <td>1</td>\n",
       "      <td>0</td>\n",
       "      <td>0</td>\n",
       "      <td>0</td>\n",
       "    </tr>\n",
       "  </tbody>\n",
       "</table>\n",
       "</div>"
      ],
      "text/plain": [
       "    race age_cat  c_charge_degree  sex priors_count_cat length_cat  \\\n",
       "1      0       1                0    1                0          1   \n",
       "2      0       0                0    1                2          0   \n",
       "6      1       1                0    1                2          0   \n",
       "8      1       1                1    0                0          0   \n",
       "10     1       1                0    1                0          0   \n",
       "\n",
       "    two_year_recid  \n",
       "1                1  \n",
       "2                1  \n",
       "6                1  \n",
       "8                0  \n",
       "10               0  "
      ]
     },
     "execution_count": 4,
     "metadata": {},
     "output_type": "execute_result"
    }
   ],
   "source": [
    "## Encoding\n",
    "\n",
    "catgorical = df.columns[df.dtypes == 'object']\n",
    "for fea in catgorical:\n",
    "    new_fea = LabelEncoder().fit_transform(df[fea])\n",
    "    df[fea] = new_fea\n",
    "    \n",
    "df['age_cat'] = pd.cut(df['age'], bins = [0, 25, 45, 100], labels = [0, 1, 2])\n",
    "df['priors_count_cat'] = pd.cut(df['priors_count'], bins = [-5, 0, 3, np.inf], labels = [0, 1, 2])\n",
    "df['length_cat'] = pd.cut(df['length_of_stay'], bins = [0, 7, 90, np.inf], labels = [0, 1, 2])\n",
    "df_clean = df[['race', 'age_cat', 'c_charge_degree', 'sex', 'priors_count_cat', 'length_cat', 'two_year_recid']]\n",
    "df_clean = df_clean.dropna()\n",
    "df_clean.head()\n",
    "\n",
    "# to reproduce the origin experiment in paper A7, we select the age, charge_degree, sex, priors_count\n",
    "# and length_of_stay as our main features"
   ]
  },
  {
   "cell_type": "markdown",
   "metadata": {},
   "source": [
    "Split the data as training : validation : testing = 5:1:1"
   ]
  },
  {
   "cell_type": "code",
   "execution_count": 5,
   "metadata": {},
   "outputs": [],
   "source": [
    "# train_test_split\n",
    "\n",
    "y = df_clean.two_year_recid\n",
    "X = df_clean.drop(columns=['two_year_recid'])\n",
    "\n",
    "X_train, X_test, y_train, y_test = train_test_split(X, y, test_size=1/7, stratify=y, random_state=123)\n",
    "X_train, X_val, y_train, y_val = train_test_split(X_train, y_train, test_size=1/6, \n",
    "                                                   stratify=y_train, random_state = 123)"
   ]
  },
  {
   "cell_type": "code",
   "execution_count": 6,
   "metadata": {},
   "outputs": [],
   "source": [
    "# Race as protected attributes(senesitive features)\n",
    "\n",
    "X_train_sen = np.array(X_train['race'])\n",
    "X_train = np.array(X_train.drop(columns = ['race']))\n",
    "X_val_sen = np.array(X_val['race'])\n",
    "X_val = np.array(X_val.drop(columns = ['race']))\n",
    "\n",
    "# For calculating calibration, split the test dataset to different race\n",
    "X_test_AA = np.array(X_test[X_test.race == 0])\n",
    "X_test_CA = np.array(X_test[X_test.race == 1])\n",
    "\n",
    "y_train = np.array(y_train)\n",
    "y_val = np.array(y_val)\n",
    "y_test_AA = np.array(y_test[X_test.race == 0])\n",
    "y_test_CA = np.array(y_test[X_test.race == 1])\n",
    "\n",
    "X_test = np.array(X_test)\n",
    "y_test = np.array(y_test)"
   ]
  },
  {
   "cell_type": "markdown",
   "metadata": {},
   "source": [
    "## A7:Information Theoretic Measures for Fairness-aware Feature Selection "
   ]
  },
  {
   "cell_type": "code",
   "execution_count": 7,
   "metadata": {},
   "outputs": [],
   "source": [
    "# shapley value calculation functions\n",
    "\n",
    "def uniq_vals_in_arr(arr):\n",
    "\n",
    "    uniq_vals = []\n",
    "    for id_col in range(arr.shape[1]):\n",
    "        uniq_vals.append(np.unique(arr[:, id_col]).tolist())\n",
    "    return uniq_vals\n",
    "\n",
    "\n",
    "def powerset(seq):\n",
    "\n",
    "    if len(seq) <= 1:\n",
    "        yield seq\n",
    "        yield []\n",
    "    else:\n",
    "        for item in powerset(seq[1:]):\n",
    "            yield [seq[0]]+item\n",
    "            yield item\n",
    "\n",
    "\n",
    "def info_coef(left, right):\n",
    "    # Both arrays NEED same number of rows\n",
    "    assert left.shape[0] == right.shape[0]\n",
    "    num_rows = left.shape[0]\n",
    "    num_left_cols = left.shape[1]\n",
    "        \n",
    "    concat_mat = np.concatenate((left, right), axis=1)\n",
    "    concat_uniq_vals = uniq_vals_in_arr(concat_mat)\n",
    "    concat_combos = list(itertools.product(*concat_uniq_vals))\n",
    "    p_sum = 0\n",
    "    for vec in concat_combos:\n",
    "        p_r1_r2 = len(np.where((concat_mat == vec).all(axis=1))[0]) / num_rows\n",
    "        p_r1 = len(np.where((left == vec[:num_left_cols]).all(axis=1))[0]) / num_rows\n",
    "        p_r2 = len(np.where((right == vec[num_left_cols:]).all(axis=1))[0]) / num_rows\n",
    "        \n",
    "        if p_r1_r2 == 0 or p_r1 == 0 or p_r2 == 0:\n",
    "            p_iter = 0\n",
    "        else:\n",
    "            p_iter = p_r1_r2 * np.log(p_r1_r2 / p_r1) / p_r1\n",
    "        p_sum += np.abs(p_iter)\n",
    "    return p_sum\n",
    "\n",
    "\n",
    "def conditional_info_coef(left, right, conditional): \n",
    "    assert (left.shape[0] == right.shape[0]) and (left.shape[0] == conditional.shape[0])\n",
    "    num_rows = left.shape[0]\n",
    "    num_left_cols = left.shape[1]\n",
    "    num_right_cols = right.shape[1]\n",
    "\n",
    "    right_concat_mat = np.concatenate((right, conditional), axis=1)    \n",
    "    concat_mat = np.concatenate((left, right_concat_mat), axis=1)\n",
    "    concat_uniq_vals = uniq_vals_in_arr(concat_mat)\n",
    "    concat_combos = list(itertools.product(*concat_uniq_vals))\n",
    "    p_sum = 0\n",
    "    for vec in concat_combos:\n",
    "        p_r1_r2 = len(np.where((concat_mat == vec).all(axis=1))[0]) / num_rows\n",
    "        p_r1 = len(np.where((left == vec[:num_left_cols]).all(axis=1))[0]) / num_rows\n",
    "        p_r2 = len(np.where((concat_mat[:, num_left_cols: -num_right_cols] == vec[num_left_cols: -num_right_cols]).all(axis=1))[0]) / num_rows\n",
    "        \n",
    "        try:\n",
    "            p_r1_given_r3 = len(np.where((concat_mat[:, :num_left_cols] == vec[:num_left_cols]).all(axis=1) & (concat_mat[:, -num_right_cols:] == vec[-num_right_cols:]).all(axis=1))[0]) / len(np.where((concat_mat[:, -num_right_cols:] == vec[-num_right_cols:]).all(axis=1))[0])\n",
    "        except ZeroDivisionError:\n",
    "            p_r1_given_r3 = 0\n",
    "        \n",
    "        if p_r1_r2 == 0 or p_r1 == 0 or p_r2 == 0 or p_r1_given_r3 == 0:\n",
    "            p_iter = 0\n",
    "        else:\n",
    "            p_iter = p_r1_r2 * np.log(p_r1_r2 / p_r2) / p_r1_given_r3\n",
    "        p_sum += np.abs(p_iter)\n",
    "    return p_sum\n",
    "\n",
    "\n",
    "def acc_coef(y, x_s, x_s_c, sensitive):\n",
    "    conditional = np.concatenate((x_s_c, sensitive), axis=1)\n",
    "    return conditional_info_coef(y, x_s, conditional)\n",
    "\n",
    "\n",
    "def disc_coef(y, x_s, sensitive):\n",
    "    x_s_a = np.concatenate((x_s, sensitive), axis=1)\n",
    "    return info_coef(y, x_s_a) * info_coef(x_s, sensitive) * conditional_info_coef(x_s, sensitive, y)\n",
    "\n",
    "\n",
    "def shapley_acc(y, x, sensitive, i):\n",
    "    num_features = x.shape[1]\n",
    "    lst_idx = list(range(num_features))\n",
    "    lst_idx.pop(i)\n",
    "    power_set = [x for x in powerset(lst_idx) if len(x) > 0]\n",
    "    \n",
    "    shapley = 0\n",
    "    for set_idx in power_set:\n",
    "        coef = math.factorial(len(set_idx)) * math.factorial(num_features - len(set_idx) - 1) / math.factorial(num_features)\n",
    "        \n",
    "        # Calculate v(T U {i})\n",
    "        idx_xs_incl = copy.copy(set_idx)\n",
    "        idx_xs_incl.append(i)\n",
    "        idx_xsc_incl = list(set(list(range(num_features))).difference(set(idx_xs_incl)))\n",
    "        acc_incl = acc_coef(y.reshape(-1, 1), x[:, idx_xs_incl], x[:, idx_xsc_incl], sensitive.reshape(-1, 1))\n",
    "        \n",
    "        # Calculate v(T)\n",
    "        idx_xsc_excl = list(range(num_features))\n",
    "        idx_xsc_excl.pop(i)\n",
    "        idx_xsc_excl = list(set(idx_xsc_excl).difference(set(set_idx)))\n",
    "        acc_excl = acc_coef(y.reshape(-1, 1), x[:, set_idx], x[:, idx_xsc_excl], sensitive.reshape(-1, 1))\n",
    "        \n",
    "        marginal = acc_incl - acc_excl\n",
    "        shapley = shapley + coef * marginal\n",
    "    return shapley\n",
    "\n",
    "\n",
    "def shapley_disc(y, x, sensitive, i):\n",
    "  \n",
    "    num_features = x.shape[1]\n",
    "    lst_idx = list(range(num_features))\n",
    "    lst_idx.pop(i)\n",
    "    power_set = [x for x in powerset(lst_idx) if len(x) > 0]\n",
    "    \n",
    "    shapley = 0\n",
    "    for set_idx in power_set:\n",
    "        coef = math.factorial(len(set_idx)) * math.factorial(num_features - len(set_idx) - 1) / math.factorial(num_features)\n",
    "        \n",
    "        # Calculate v_D(T U {i})\n",
    "        idx_xs_incl = copy.copy(set_idx)\n",
    "        idx_xs_incl.append(i)\n",
    "        disc_incl = disc_coef(y.reshape(-1, 1), x[:, idx_xs_incl], sensitive.reshape(-1, 1))\n",
    "        \n",
    "        # Calculate v_D(T)\n",
    "        disc_excl = disc_coef(y.reshape(-1, 1), x[:, set_idx], sensitive.reshape(-1, 1))\n",
    "        \n",
    "        marginal = disc_incl - disc_excl\n",
    "        shapley = shapley + coef * marginal\n",
    "    return shapley\n",
    "\n",
    "\n",
    "def shapley(train_set):\n",
    "    \n",
    "    shap_acc = []\n",
    "    shap_disc = []\n",
    "    for i in range(5):\n",
    "        acc_i = shapley_acc(train_set[0],train_set[1], train_set[2],i)\n",
    "        disc_i = shapley_disc(train_set[0],train_set[1], train_set[2], i)\n",
    "\n",
    "        shap_acc.append(acc_i)\n",
    "        shap_disc.append(disc_i)\n",
    "    return [shap_acc, shap_disc]\n"
   ]
  },
  {
   "cell_type": "code",
   "execution_count": 33,
   "metadata": {
    "scrolled": true
   },
   "outputs": [
    {
     "data": {
      "text/html": [
       "<div>\n",
       "<style scoped>\n",
       "    .dataframe tbody tr th:only-of-type {\n",
       "        vertical-align: middle;\n",
       "    }\n",
       "\n",
       "    .dataframe tbody tr th {\n",
       "        vertical-align: top;\n",
       "    }\n",
       "\n",
       "    .dataframe thead th {\n",
       "        text-align: right;\n",
       "    }\n",
       "</style>\n",
       "<table border=\"1\" class=\"dataframe\">\n",
       "  <thead>\n",
       "    <tr style=\"text-align: right;\">\n",
       "      <th></th>\n",
       "      <th>Features</th>\n",
       "      <th>Accuracy</th>\n",
       "      <th>Discrimination</th>\n",
       "    </tr>\n",
       "  </thead>\n",
       "  <tbody>\n",
       "    <tr>\n",
       "      <td>0</td>\n",
       "      <td>Age</td>\n",
       "      <td>1.210114</td>\n",
       "      <td>46772.615106</td>\n",
       "    </tr>\n",
       "    <tr>\n",
       "      <td>1</td>\n",
       "      <td>Charge Degree</td>\n",
       "      <td>1.087360</td>\n",
       "      <td>37525.470930</td>\n",
       "    </tr>\n",
       "    <tr>\n",
       "      <td>2</td>\n",
       "      <td>Gender</td>\n",
       "      <td>0.969253</td>\n",
       "      <td>37630.375782</td>\n",
       "    </tr>\n",
       "    <tr>\n",
       "      <td>3</td>\n",
       "      <td>Prior Counts</td>\n",
       "      <td>1.248108</td>\n",
       "      <td>47161.541173</td>\n",
       "    </tr>\n",
       "    <tr>\n",
       "      <td>4</td>\n",
       "      <td>Length of Stay</td>\n",
       "      <td>1.190087</td>\n",
       "      <td>46187.281878</td>\n",
       "    </tr>\n",
       "  </tbody>\n",
       "</table>\n",
       "</div>"
      ],
      "text/plain": [
       "         Features  Accuracy  Discrimination\n",
       "0             Age  1.210114    46772.615106\n",
       "1   Charge Degree  1.087360    37525.470930\n",
       "2          Gender  0.969253    37630.375782\n",
       "3    Prior Counts  1.248108    47161.541173\n",
       "4  Length of Stay  1.190087    46187.281878"
      ]
     },
     "execution_count": 33,
     "metadata": {},
     "output_type": "execute_result"
    }
   ],
   "source": [
    "## Feature Selection Result\n",
    "\n",
    "train_set = [y_train, X_train, X_train_sen]\n",
    "shaply = shapley(train_set)\n",
    "feature_names = ['Age', 'Charge Degree', 'Gender', 'Prior Counts', 'Length of Stay']\n",
    "pd.DataFrame(list(zip(feature_names, shaply[0], shaply[1])), columns = ['Features', 'Accuracy', 'Discrimination'])"
   ]
  },
  {
   "cell_type": "markdown",
   "metadata": {},
   "source": [
    "**Conclusion**: We Applied the measure of accuracy and discrimination to the dataset. The result shows that **Age** and **Prior Counts** show strongest proxies for discrimination. This is in line with the conclusion of paper A7. However, both features show the strongest proxies for model accuracies as well. Thus, a naive decision to drop **Age** or **Prior Counts** would highly reduce the model accuracy.   \n",
    "\n",
    "To make a wise decision for fairness-aware feature selection, we can compute the fairness-utility score which is based on the shapley value and a positive hyperparamter $\\alpha$. The choice of $\\alpha$ helps trade off between accuracy and discrimination.\n"
   ]
  },
  {
   "cell_type": "markdown",
   "metadata": {},
   "source": [
    "## Model Selection and Evaluation"
   ]
  },
  {
   "cell_type": "markdown",
   "metadata": {},
   "source": [
    "### Hyperparameter Tuning"
   ]
  },
  {
   "cell_type": "code",
   "execution_count": 34,
   "metadata": {},
   "outputs": [],
   "source": [
    "\n",
    "def fairness_score(shaply, alpha):\n",
    "    shap_score = []\n",
    "    for i in range(5):\n",
    "        score = shaply[0][i] - alpha * shaply[1][i]\n",
    "        \n",
    "        shap_score.append(score)\n",
    "    return [shaply[0], shaply[1], shap_score]\n"
   ]
  },
  {
   "cell_type": "markdown",
   "metadata": {},
   "source": [
    "**(1) $\\alpha = 0.000001$**"
   ]
  },
  {
   "cell_type": "code",
   "execution_count": 76,
   "metadata": {},
   "outputs": [
    {
     "data": {
      "text/html": [
       "<div>\n",
       "<style scoped>\n",
       "    .dataframe tbody tr th:only-of-type {\n",
       "        vertical-align: middle;\n",
       "    }\n",
       "\n",
       "    .dataframe tbody tr th {\n",
       "        vertical-align: top;\n",
       "    }\n",
       "\n",
       "    .dataframe thead th {\n",
       "        text-align: right;\n",
       "    }\n",
       "</style>\n",
       "<table border=\"1\" class=\"dataframe\">\n",
       "  <thead>\n",
       "    <tr style=\"text-align: right;\">\n",
       "      <th></th>\n",
       "      <th>Features</th>\n",
       "      <th>Accuracy</th>\n",
       "      <th>Discrimination</th>\n",
       "      <th>fairness-utility score</th>\n",
       "    </tr>\n",
       "  </thead>\n",
       "  <tbody>\n",
       "    <tr>\n",
       "      <td>0</td>\n",
       "      <td>Age</td>\n",
       "      <td>1.210114</td>\n",
       "      <td>46772.615106</td>\n",
       "      <td>1.163341</td>\n",
       "    </tr>\n",
       "    <tr>\n",
       "      <td>1</td>\n",
       "      <td>Charge Degree</td>\n",
       "      <td>1.087360</td>\n",
       "      <td>37525.470930</td>\n",
       "      <td>1.049834</td>\n",
       "    </tr>\n",
       "    <tr>\n",
       "      <td>2</td>\n",
       "      <td>Gender</td>\n",
       "      <td>0.969253</td>\n",
       "      <td>37630.375782</td>\n",
       "      <td>0.931623</td>\n",
       "    </tr>\n",
       "    <tr>\n",
       "      <td>3</td>\n",
       "      <td>Prior Counts</td>\n",
       "      <td>1.248108</td>\n",
       "      <td>47161.541173</td>\n",
       "      <td>1.200947</td>\n",
       "    </tr>\n",
       "    <tr>\n",
       "      <td>4</td>\n",
       "      <td>Length of Stay</td>\n",
       "      <td>1.190087</td>\n",
       "      <td>46187.281878</td>\n",
       "      <td>1.143899</td>\n",
       "    </tr>\n",
       "  </tbody>\n",
       "</table>\n",
       "</div>"
      ],
      "text/plain": [
       "         Features  Accuracy  Discrimination  fairness-utility score\n",
       "0             Age  1.210114    46772.615106                1.163341\n",
       "1   Charge Degree  1.087360    37525.470930                1.049834\n",
       "2          Gender  0.969253    37630.375782                0.931623\n",
       "3    Prior Counts  1.248108    47161.541173                1.200947\n",
       "4  Length of Stay  1.190087    46187.281878                1.143899"
      ]
     },
     "execution_count": 76,
     "metadata": {},
     "output_type": "execute_result"
    }
   ],
   "source": [
    "## Feature Selection Result\n",
    "\n",
    "#train_set = [y_train, X_train, X_train_sen]\n",
    "score_1 = fairness_score(shaply, 0.000001)\n",
    "feature_names = ['Age', 'Charge Degree', 'Gender', 'Prior Counts', 'Length of Stay']\n",
    "pd.DataFrame(list(zip(feature_names, score_1[0], score_1[1], score_1[2])), columns = ['Features', 'Accuracy', 'Discrimination', 'fairness-utility score'])"
   ]
  },
  {
   "cell_type": "markdown",
   "metadata": {},
   "source": [
    "**(2) $\\alpha = 0.00001$**"
   ]
  },
  {
   "cell_type": "code",
   "execution_count": 77,
   "metadata": {},
   "outputs": [
    {
     "data": {
      "text/html": [
       "<div>\n",
       "<style scoped>\n",
       "    .dataframe tbody tr th:only-of-type {\n",
       "        vertical-align: middle;\n",
       "    }\n",
       "\n",
       "    .dataframe tbody tr th {\n",
       "        vertical-align: top;\n",
       "    }\n",
       "\n",
       "    .dataframe thead th {\n",
       "        text-align: right;\n",
       "    }\n",
       "</style>\n",
       "<table border=\"1\" class=\"dataframe\">\n",
       "  <thead>\n",
       "    <tr style=\"text-align: right;\">\n",
       "      <th></th>\n",
       "      <th>Features</th>\n",
       "      <th>Accuracy</th>\n",
       "      <th>Discrimination</th>\n",
       "      <th>fairness-utility score</th>\n",
       "    </tr>\n",
       "  </thead>\n",
       "  <tbody>\n",
       "    <tr>\n",
       "      <td>0</td>\n",
       "      <td>Age</td>\n",
       "      <td>1.210114</td>\n",
       "      <td>46772.615106</td>\n",
       "      <td>0.742387</td>\n",
       "    </tr>\n",
       "    <tr>\n",
       "      <td>1</td>\n",
       "      <td>Charge Degree</td>\n",
       "      <td>1.087360</td>\n",
       "      <td>37525.470930</td>\n",
       "      <td>0.712105</td>\n",
       "    </tr>\n",
       "    <tr>\n",
       "      <td>2</td>\n",
       "      <td>Gender</td>\n",
       "      <td>0.969253</td>\n",
       "      <td>37630.375782</td>\n",
       "      <td>0.592949</td>\n",
       "    </tr>\n",
       "    <tr>\n",
       "      <td>3</td>\n",
       "      <td>Prior Counts</td>\n",
       "      <td>1.248108</td>\n",
       "      <td>47161.541173</td>\n",
       "      <td>0.776493</td>\n",
       "    </tr>\n",
       "    <tr>\n",
       "      <td>4</td>\n",
       "      <td>Length of Stay</td>\n",
       "      <td>1.190087</td>\n",
       "      <td>46187.281878</td>\n",
       "      <td>0.728214</td>\n",
       "    </tr>\n",
       "  </tbody>\n",
       "</table>\n",
       "</div>"
      ],
      "text/plain": [
       "         Features  Accuracy  Discrimination  fairness-utility score\n",
       "0             Age  1.210114    46772.615106                0.742387\n",
       "1   Charge Degree  1.087360    37525.470930                0.712105\n",
       "2          Gender  0.969253    37630.375782                0.592949\n",
       "3    Prior Counts  1.248108    47161.541173                0.776493\n",
       "4  Length of Stay  1.190087    46187.281878                0.728214"
      ]
     },
     "execution_count": 77,
     "metadata": {},
     "output_type": "execute_result"
    }
   ],
   "source": [
    "## Feature Selection Result\n",
    "\n",
    "#train_set = [y_train, X_train, X_train_sen]\n",
    "score_2 = fairness_score(shaply, 0.00001)\n",
    "feature_names = ['Age', 'Charge Degree', 'Gender', 'Prior Counts', 'Length of Stay']\n",
    "pd.DataFrame(list(zip(feature_names, score_2[0], score_2[1], score_2[2])), columns = ['Features', 'Accuracy', 'Discrimination', 'fairness-utility score'])"
   ]
  },
  {
   "cell_type": "markdown",
   "metadata": {},
   "source": [
    "**(3) $\\alpha = 0.00003$**"
   ]
  },
  {
   "cell_type": "code",
   "execution_count": 78,
   "metadata": {},
   "outputs": [
    {
     "data": {
      "text/html": [
       "<div>\n",
       "<style scoped>\n",
       "    .dataframe tbody tr th:only-of-type {\n",
       "        vertical-align: middle;\n",
       "    }\n",
       "\n",
       "    .dataframe tbody tr th {\n",
       "        vertical-align: top;\n",
       "    }\n",
       "\n",
       "    .dataframe thead th {\n",
       "        text-align: right;\n",
       "    }\n",
       "</style>\n",
       "<table border=\"1\" class=\"dataframe\">\n",
       "  <thead>\n",
       "    <tr style=\"text-align: right;\">\n",
       "      <th></th>\n",
       "      <th>Features</th>\n",
       "      <th>Accuracy</th>\n",
       "      <th>Discrimination</th>\n",
       "      <th>fairness-utility score</th>\n",
       "    </tr>\n",
       "  </thead>\n",
       "  <tbody>\n",
       "    <tr>\n",
       "      <td>0</td>\n",
       "      <td>Age</td>\n",
       "      <td>1.210114</td>\n",
       "      <td>46772.615106</td>\n",
       "      <td>-0.193065</td>\n",
       "    </tr>\n",
       "    <tr>\n",
       "      <td>1</td>\n",
       "      <td>Charge Degree</td>\n",
       "      <td>1.087360</td>\n",
       "      <td>37525.470930</td>\n",
       "      <td>-0.038404</td>\n",
       "    </tr>\n",
       "    <tr>\n",
       "      <td>2</td>\n",
       "      <td>Gender</td>\n",
       "      <td>0.969253</td>\n",
       "      <td>37630.375782</td>\n",
       "      <td>-0.159658</td>\n",
       "    </tr>\n",
       "    <tr>\n",
       "      <td>3</td>\n",
       "      <td>Prior Counts</td>\n",
       "      <td>1.248108</td>\n",
       "      <td>47161.541173</td>\n",
       "      <td>-0.166738</td>\n",
       "    </tr>\n",
       "    <tr>\n",
       "      <td>4</td>\n",
       "      <td>Length of Stay</td>\n",
       "      <td>1.190087</td>\n",
       "      <td>46187.281878</td>\n",
       "      <td>-0.195532</td>\n",
       "    </tr>\n",
       "  </tbody>\n",
       "</table>\n",
       "</div>"
      ],
      "text/plain": [
       "         Features  Accuracy  Discrimination  fairness-utility score\n",
       "0             Age  1.210114    46772.615106               -0.193065\n",
       "1   Charge Degree  1.087360    37525.470930               -0.038404\n",
       "2          Gender  0.969253    37630.375782               -0.159658\n",
       "3    Prior Counts  1.248108    47161.541173               -0.166738\n",
       "4  Length of Stay  1.190087    46187.281878               -0.195532"
      ]
     },
     "execution_count": 78,
     "metadata": {},
     "output_type": "execute_result"
    }
   ],
   "source": [
    "## Feature Selection Result\n",
    "\n",
    "#train_set = [y_train, X_train, X_train_sen]\n",
    "score_3 = fairness_score(shaply, 0.00003)\n",
    "feature_names = ['Age', 'Charge Degree', 'Gender', 'Prior Counts', 'Length of Stay']\n",
    "pd.DataFrame(list(zip(feature_names, score_3[0], score_3[1], score_3[2])), columns = ['Features', 'Accuracy', 'Discrimination', 'fairness-utility score'])"
   ]
  },
  {
   "cell_type": "markdown",
   "metadata": {},
   "source": [
    "**(4) $\\alpha = 0.00005$**"
   ]
  },
  {
   "cell_type": "code",
   "execution_count": 120,
   "metadata": {},
   "outputs": [
    {
     "data": {
      "text/html": [
       "<div>\n",
       "<style scoped>\n",
       "    .dataframe tbody tr th:only-of-type {\n",
       "        vertical-align: middle;\n",
       "    }\n",
       "\n",
       "    .dataframe tbody tr th {\n",
       "        vertical-align: top;\n",
       "    }\n",
       "\n",
       "    .dataframe thead th {\n",
       "        text-align: right;\n",
       "    }\n",
       "</style>\n",
       "<table border=\"1\" class=\"dataframe\">\n",
       "  <thead>\n",
       "    <tr style=\"text-align: right;\">\n",
       "      <th></th>\n",
       "      <th>Features</th>\n",
       "      <th>Accuracy</th>\n",
       "      <th>Discrimination</th>\n",
       "      <th>fairness-utility score</th>\n",
       "    </tr>\n",
       "  </thead>\n",
       "  <tbody>\n",
       "    <tr>\n",
       "      <td>0</td>\n",
       "      <td>Age</td>\n",
       "      <td>1.210114</td>\n",
       "      <td>46772.615106</td>\n",
       "      <td>-1.128517</td>\n",
       "    </tr>\n",
       "    <tr>\n",
       "      <td>1</td>\n",
       "      <td>Charge Degree</td>\n",
       "      <td>1.087360</td>\n",
       "      <td>37525.470930</td>\n",
       "      <td>-0.788914</td>\n",
       "    </tr>\n",
       "    <tr>\n",
       "      <td>2</td>\n",
       "      <td>Gender</td>\n",
       "      <td>0.969253</td>\n",
       "      <td>37630.375782</td>\n",
       "      <td>-0.912266</td>\n",
       "    </tr>\n",
       "    <tr>\n",
       "      <td>3</td>\n",
       "      <td>Prior Counts</td>\n",
       "      <td>1.248108</td>\n",
       "      <td>47161.541173</td>\n",
       "      <td>-1.109969</td>\n",
       "    </tr>\n",
       "    <tr>\n",
       "      <td>4</td>\n",
       "      <td>Length of Stay</td>\n",
       "      <td>1.190087</td>\n",
       "      <td>46187.281878</td>\n",
       "      <td>-1.119278</td>\n",
       "    </tr>\n",
       "  </tbody>\n",
       "</table>\n",
       "</div>"
      ],
      "text/plain": [
       "         Features  Accuracy  Discrimination  fairness-utility score\n",
       "0             Age  1.210114    46772.615106               -1.128517\n",
       "1   Charge Degree  1.087360    37525.470930               -0.788914\n",
       "2          Gender  0.969253    37630.375782               -0.912266\n",
       "3    Prior Counts  1.248108    47161.541173               -1.109969\n",
       "4  Length of Stay  1.190087    46187.281878               -1.119278"
      ]
     },
     "execution_count": 120,
     "metadata": {},
     "output_type": "execute_result"
    }
   ],
   "source": [
    "## Feature Selection Result\n",
    "\n",
    "#train_set = [y_train, X_train, X_train_sen]\n",
    "score_4 = fairness_score(shaply, 0.00005)\n",
    "feature_names = ['Age', 'Charge Degree', 'Gender', 'Prior Counts', 'Length of Stay']\n",
    "pd.DataFrame(list(zip(feature_names, score_4[0], score_4[1], score_4[2])), columns = ['Features', 'Accuracy', 'Discrimination', 'fairness-utility score'])"
   ]
  },
  {
   "cell_type": "markdown",
   "metadata": {},
   "source": [
    "**(5) $\\alpha = 0.0001$**"
   ]
  },
  {
   "cell_type": "code",
   "execution_count": 125,
   "metadata": {},
   "outputs": [
    {
     "data": {
      "text/html": [
       "<div>\n",
       "<style scoped>\n",
       "    .dataframe tbody tr th:only-of-type {\n",
       "        vertical-align: middle;\n",
       "    }\n",
       "\n",
       "    .dataframe tbody tr th {\n",
       "        vertical-align: top;\n",
       "    }\n",
       "\n",
       "    .dataframe thead th {\n",
       "        text-align: right;\n",
       "    }\n",
       "</style>\n",
       "<table border=\"1\" class=\"dataframe\">\n",
       "  <thead>\n",
       "    <tr style=\"text-align: right;\">\n",
       "      <th></th>\n",
       "      <th>Features</th>\n",
       "      <th>Accuracy</th>\n",
       "      <th>Discrimination</th>\n",
       "      <th>fairness-utility score</th>\n",
       "    </tr>\n",
       "  </thead>\n",
       "  <tbody>\n",
       "    <tr>\n",
       "      <td>0</td>\n",
       "      <td>Age</td>\n",
       "      <td>1.210114</td>\n",
       "      <td>46772.615106</td>\n",
       "      <td>-3.467148</td>\n",
       "    </tr>\n",
       "    <tr>\n",
       "      <td>1</td>\n",
       "      <td>Charge Degree</td>\n",
       "      <td>1.087360</td>\n",
       "      <td>37525.470930</td>\n",
       "      <td>-2.665187</td>\n",
       "    </tr>\n",
       "    <tr>\n",
       "      <td>2</td>\n",
       "      <td>Gender</td>\n",
       "      <td>0.969253</td>\n",
       "      <td>37630.375782</td>\n",
       "      <td>-2.793785</td>\n",
       "    </tr>\n",
       "    <tr>\n",
       "      <td>3</td>\n",
       "      <td>Prior Counts</td>\n",
       "      <td>1.248108</td>\n",
       "      <td>47161.541173</td>\n",
       "      <td>-3.468046</td>\n",
       "    </tr>\n",
       "    <tr>\n",
       "      <td>4</td>\n",
       "      <td>Length of Stay</td>\n",
       "      <td>1.190087</td>\n",
       "      <td>46187.281878</td>\n",
       "      <td>-3.428642</td>\n",
       "    </tr>\n",
       "  </tbody>\n",
       "</table>\n",
       "</div>"
      ],
      "text/plain": [
       "         Features  Accuracy  Discrimination  fairness-utility score\n",
       "0             Age  1.210114    46772.615106               -3.467148\n",
       "1   Charge Degree  1.087360    37525.470930               -2.665187\n",
       "2          Gender  0.969253    37630.375782               -2.793785\n",
       "3    Prior Counts  1.248108    47161.541173               -3.468046\n",
       "4  Length of Stay  1.190087    46187.281878               -3.428642"
      ]
     },
     "execution_count": 125,
     "metadata": {},
     "output_type": "execute_result"
    }
   ],
   "source": [
    "## Feature Selection Result\n",
    "\n",
    "#train_set = [y_train, X_train, X_train_sen]\n",
    "score_5 = fairness_score(shaply, 0.0001)\n",
    "feature_names = ['Age', 'Charge Degree', 'Gender', 'Prior Counts', 'Length of Stay']\n",
    "pd.DataFrame(list(zip(feature_names, score_5[0], score_5[1], score_5[2])), columns = ['Features', 'Accuracy', 'Discrimination', 'fairness-utility score'])"
   ]
  },
  {
   "cell_type": "code",
   "execution_count": 127,
   "metadata": {},
   "outputs": [
    {
     "data": {
      "text/plain": [
       "<matplotlib.legend.Legend at 0x7fe1ab954f90>"
      ]
     },
     "execution_count": 127,
     "metadata": {},
     "output_type": "execute_result"
    },
    {
     "data": {
      "image/png": "[encoded data removed]",
      "text/plain": [
       "<Figure size 1440x1440 with 1 Axes>"
      ]
     },
     "metadata": {
      "needs_background": "light"
     },
     "output_type": "display_data"
    }
   ],
   "source": [
    "plt.figure(figsize=(20, 20))\n",
    "plt.rc('xtick', labelsize=20) \n",
    "plt.rc('ytick', labelsize=20) \n",
    "plt.rc('legend', fontsize=20)\n",
    "#xpoints = np.array(['0.000001', '0.00001', '0.00003', '0.00005', '0.0001'])\n",
    "xpoints = np.array([0.000001, 0.00001, 0.00003, 0.00005, 0.0001])\n",
    "y_age = np.array([score_1[2][0], score_2[2][0], score_3[2][0], score_4[2][0], score_5[2][0]])\n",
    "plt.plot(xpoints, y_age, '--bo', label = 'Age')\n",
    "y_charge = np.array([score_1[2][1], score_2[2][1], score_3[2][1], score_4[2][1], score_5[2][1]])\n",
    "plt.plot(xpoints, y_charge, '--go', label = 'Charge Degree')\n",
    "y_gender = np.array([score_1[2][2], score_2[2][2], score_3[2][2], score_4[2][2], score_5[2][2]])\n",
    "plt.plot(xpoints, y_gender, '--ro', label = 'Gender')\n",
    "y_prior = np.array([score_1[2][3], score_2[2][3], score_3[2][3], score_4[2][3], score_5[2][3]])\n",
    "plt.plot(xpoints, y_prior, '--ko', label = 'Prior Counts')\n",
    "y_length = np.array([score_1[2][4], score_2[2][4], score_3[2][4], score_4[2][4], score_5[2][4]])\n",
    "plt.plot(xpoints, y_length, '--mo', label = 'Length of Stay')\n",
    "plt.legend()"
   ]
  },
  {
   "cell_type": "markdown",
   "metadata": {},
   "source": [
    "We'd like to remove the feature with the lowest fairness-utility score from the overall five features. From the plot, we observe the lowest fairness-utility score:\n",
    "\n",
    "1) When $\\alpha = 0.000001$ and $\\alpha = 0.00001$, **Gender**;\n",
    "\n",
    "2) When $\\alpha = 0.00003$, **Length of Stay**;\n",
    "\n",
    "3) When $\\alpha = 0.00005$, **Age**;\n",
    "\n",
    "4) When $\\alpha = 0.0001$, **Prior Counts**.\n",
    "    \n",
    "Basically, if we care about maintaining a very high accuracy, we can choose to remove **Gender**; If we want to minimize the discrimination effect, we can choose to remove **Prior Counts**. \n",
    "\n",
    "Next, we will build a set of classification models based on logistic regression. We will first regress on the whole five features, and then remove one feature from **Gender**, **Length of Stay**, **Age**, and **Prior Counts** respectively and compare their accuracy and calibration. "
   ]
  },
  {
   "cell_type": "markdown",
   "metadata": {},
   "source": [
    "### Building the model"
   ]
  },
  {
   "cell_type": "markdown",
   "metadata": {},
   "source": [
    "#### (1) With all 5 features"
   ]
  },
  {
   "cell_type": "code",
   "execution_count": 9,
   "metadata": {},
   "outputs": [
    {
     "data": {
      "text/plain": [
       "LogisticRegression()"
      ]
     },
     "execution_count": 9,
     "metadata": {},
     "output_type": "execute_result"
    }
   ],
   "source": [
    "lr = LogisticRegression()\n",
    "lr.fit(X_train, y_train)"
   ]
  },
  {
   "cell_type": "code",
   "execution_count": 10,
   "metadata": {},
   "outputs": [
    {
     "name": "stdout",
     "output_type": "stream",
     "text": [
      "AUC:0.68\n",
      "Precision:0.69\n",
      "Recall:0.69\n",
      "Accuracy:0.67967\n"
     ]
    }
   ],
   "source": [
    "y_test_predict_all = lr.predict(np.delete(X_test, 0, axis = 1))\n",
    "print(f'AUC:{roc_auc_score(y_test, y_test_predict_all):.2f}')\n",
    "print(f'Precision:{precision_score(y_test, y_test_predict_all):.2f}')\n",
    "print(f'Recall:{recall_score(y_test, y_test_predict_all):.2f}')\n",
    "print(f'Accuracy:{accuracy_score(y_test, y_test_predict_all):.5f}')"
   ]
  },
  {
   "cell_type": "code",
   "execution_count": 11,
   "metadata": {},
   "outputs": [
    {
     "name": "stdout",
     "output_type": "stream",
     "text": [
      "Calibration:0.07084\n"
     ]
    }
   ],
   "source": [
    "y_test_predict_AA_all = lr.predict(np.delete(X_test_AA, 0, axis = 1))\n",
    "y_test_predict_CA_all = lr.predict(np.delete(X_test_CA, 0, axis = 1))\n",
    "accuracy_AA_all = accuracy_score(y_test_AA, y_test_predict_AA_all)\n",
    "accuracy_CA_all = accuracy_score(y_test_CA, y_test_predict_CA_all)\n",
    "print(f'Calibration:{abs(accuracy_AA_all-accuracy_CA_all):.5f}')"
   ]
  },
  {
   "cell_type": "markdown",
   "metadata": {},
   "source": [
    "#### (2) Remove Gender"
   ]
  },
  {
   "cell_type": "code",
   "execution_count": 138,
   "metadata": {},
   "outputs": [
    {
     "data": {
      "text/plain": [
       "LogisticRegression()"
      ]
     },
     "execution_count": 138,
     "metadata": {},
     "output_type": "execute_result"
    }
   ],
   "source": [
    "lr2 = LogisticRegression()\n",
    "lr2.fit(np.delete(X_train, 2, axis = 1), y_train)"
   ]
  },
  {
   "cell_type": "code",
   "execution_count": 141,
   "metadata": {},
   "outputs": [
    {
     "name": "stdout",
     "output_type": "stream",
     "text": [
      "AUC:0.67\n",
      "Precision:0.68\n",
      "Recall:0.69\n",
      "Accuracy:0.67351\n"
     ]
    }
   ],
   "source": [
    "y_test_predict2 = lr2.predict(np.delete(X_test, [0, 3], axis = 1))\n",
    "print(f'AUC:{roc_auc_score(y_test, y_test_predict2):.2f}')\n",
    "print(f'Precision:{precision_score(y_test, y_test_predict2):.2f}')\n",
    "print(f'Recall:{recall_score(y_test, y_test_predict2):.2f}')\n",
    "print(f'Accuracy:{accuracy_score(y_test, y_test_predict2):.5f}')"
   ]
  },
  {
   "cell_type": "code",
   "execution_count": 143,
   "metadata": {},
   "outputs": [
    {
     "name": "stdout",
     "output_type": "stream",
     "text": [
      "Calibration:0.04339\n"
     ]
    }
   ],
   "source": [
    "y_test_predict_AA2 = lr2.predict(np.delete(X_test_AA, [0, 3], axis = 1))\n",
    "y_test_predict_CA2 = lr2.predict(np.delete(X_test_CA, [0, 3], axis = 1))\n",
    "accuracy_AA2 = accuracy_score(y_test_AA, y_test_predict_AA2)\n",
    "accuracy_CA2 = accuracy_score(y_test_CA, y_test_predict_CA2)\n",
    "print(f'Calibration:{abs(accuracy_AA2-accuracy_CA2):.5f}')"
   ]
  },
  {
   "cell_type": "markdown",
   "metadata": {},
   "source": [
    "#### (3) Remove Length of Stay"
   ]
  },
  {
   "cell_type": "code",
   "execution_count": 144,
   "metadata": {},
   "outputs": [
    {
     "data": {
      "text/plain": [
       "LogisticRegression()"
      ]
     },
     "execution_count": 144,
     "metadata": {},
     "output_type": "execute_result"
    }
   ],
   "source": [
    "lr3 = LogisticRegression()\n",
    "lr3.fit(np.delete(X_train, 4, axis = 1), y_train)"
   ]
  },
  {
   "cell_type": "code",
   "execution_count": 145,
   "metadata": {},
   "outputs": [
    {
     "name": "stdout",
     "output_type": "stream",
     "text": [
      "AUC:0.65\n",
      "Precision:0.66\n",
      "Recall:0.69\n",
      "Accuracy:0.65503\n"
     ]
    }
   ],
   "source": [
    "y_test_predict3 = lr3.predict(np.delete(X_test, [0, 5], axis = 1))\n",
    "print(f'AUC:{roc_auc_score(y_test, y_test_predict3):.2f}')\n",
    "print(f'Precision:{precision_score(y_test, y_test_predict3):.2f}')\n",
    "print(f'Recall:{recall_score(y_test, y_test_predict3):.2f}')\n",
    "print(f'Accuracy:{accuracy_score(y_test, y_test_predict3):.5f}')"
   ]
  },
  {
   "cell_type": "code",
   "execution_count": 146,
   "metadata": {},
   "outputs": [
    {
     "name": "stdout",
     "output_type": "stream",
     "text": [
      "Calibration:0.08590\n"
     ]
    }
   ],
   "source": [
    "y_test_predict_AA3 = lr3.predict(np.delete(X_test_AA, [0, 5], axis = 1))\n",
    "y_test_predict_CA3 = lr3.predict(np.delete(X_test_CA, [0, 5], axis = 1))\n",
    "accuracy_AA3 = accuracy_score(y_test_AA, y_test_predict_AA3)\n",
    "accuracy_CA3 = accuracy_score(y_test_CA, y_test_predict_CA3)\n",
    "print(f'Calibration:{abs(accuracy_AA3-accuracy_CA3):.5f}')"
   ]
  },
  {
   "cell_type": "markdown",
   "metadata": {},
   "source": [
    "#### (4) Remove Age"
   ]
  },
  {
   "cell_type": "code",
   "execution_count": 148,
   "metadata": {},
   "outputs": [
    {
     "data": {
      "text/plain": [
       "LogisticRegression()"
      ]
     },
     "execution_count": 148,
     "metadata": {},
     "output_type": "execute_result"
    }
   ],
   "source": [
    "lr4 = LogisticRegression()\n",
    "lr4.fit(np.delete(X_train, 0, axis = 1), y_train)"
   ]
  },
  {
   "cell_type": "code",
   "execution_count": 149,
   "metadata": {},
   "outputs": [
    {
     "name": "stdout",
     "output_type": "stream",
     "text": [
      "AUC:0.60\n",
      "Precision:0.60\n",
      "Recall:0.69\n",
      "Accuracy:0.59959\n"
     ]
    }
   ],
   "source": [
    "y_test_predict4 = lr4.predict(np.delete(X_test, [0, 1], axis = 1))\n",
    "print(f'AUC:{roc_auc_score(y_test, y_test_predict4):.2f}')\n",
    "print(f'Precision:{precision_score(y_test, y_test_predict4):.2f}')\n",
    "print(f'Recall:{recall_score(y_test, y_test_predict4):.2f}')\n",
    "print(f'Accuracy:{accuracy_score(y_test, y_test_predict4):.5f}')"
   ]
  },
  {
   "cell_type": "code",
   "execution_count": 150,
   "metadata": {},
   "outputs": [
    {
     "name": "stdout",
     "output_type": "stream",
     "text": [
      "Calibration:0.09747\n"
     ]
    }
   ],
   "source": [
    "y_test_predict_AA4 = lr4.predict(np.delete(X_test_AA, [0, 1], axis = 1))\n",
    "y_test_predict_CA4 = lr4.predict(np.delete(X_test_CA, [0, 1], axis = 1))\n",
    "accuracy_AA4 = accuracy_score(y_test_AA, y_test_predict_AA4)\n",
    "accuracy_CA4 = accuracy_score(y_test_CA, y_test_predict_CA4)\n",
    "print(f'Calibration:{abs(accuracy_AA4-accuracy_CA4):.5f}')"
   ]
  },
  {
   "cell_type": "markdown",
   "metadata": {},
   "source": [
    "#### (5) Remove Prior Counts"
   ]
  },
  {
   "cell_type": "code",
   "execution_count": 151,
   "metadata": {},
   "outputs": [
    {
     "data": {
      "text/plain": [
       "LogisticRegression()"
      ]
     },
     "execution_count": 151,
     "metadata": {},
     "output_type": "execute_result"
    }
   ],
   "source": [
    "lr5 = LogisticRegression()\n",
    "lr5.fit(np.delete(X_train, 3, axis = 1), y_train)"
   ]
  },
  {
   "cell_type": "code",
   "execution_count": 152,
   "metadata": {},
   "outputs": [
    {
     "name": "stdout",
     "output_type": "stream",
     "text": [
      "AUC:0.56\n",
      "Precision:0.56\n",
      "Recall:0.69\n",
      "Accuracy:0.56263\n"
     ]
    }
   ],
   "source": [
    "y_test_predict5 = lr5.predict(np.delete(X_test, [0, 4], axis = 1))\n",
    "print(f'AUC:{roc_auc_score(y_test, y_test_predict5):.2f}')\n",
    "print(f'Precision:{precision_score(y_test, y_test_predict5):.2f}')\n",
    "print(f'Recall:{recall_score(y_test, y_test_predict5):.2f}')\n",
    "print(f'Accuracy:{accuracy_score(y_test, y_test_predict5):.5f}')"
   ]
  },
  {
   "cell_type": "code",
   "execution_count": 153,
   "metadata": {},
   "outputs": [
    {
     "name": "stdout",
     "output_type": "stream",
     "text": [
      "Calibration:0.06654\n"
     ]
    }
   ],
   "source": [
    "y_test_predict_AA5 = lr5.predict(np.delete(X_test_AA, [0, 4], axis = 1))\n",
    "y_test_predict_CA5 = lr5.predict(np.delete(X_test_CA, [0, 4], axis = 1))\n",
    "accuracy_AA5 = accuracy_score(y_test_AA, y_test_predict_AA5)\n",
    "accuracy_CA5 = accuracy_score(y_test_CA, y_test_predict_CA5)\n",
    "print(f'Calibration:{abs(accuracy_AA5-accuracy_CA5):.5f}')"
   ]
  },
  {
   "cell_type": "markdown",
   "metadata": {},
   "source": [
    "### Result"
   ]
  },
  {
   "cell_type": "code",
   "execution_count": 159,
   "metadata": {},
   "outputs": [
    {
     "data": {
      "text/html": [
       "<div>\n",
       "<style scoped>\n",
       "    .dataframe tbody tr th:only-of-type {\n",
       "        vertical-align: middle;\n",
       "    }\n",
       "\n",
       "    .dataframe tbody tr th {\n",
       "        vertical-align: top;\n",
       "    }\n",
       "\n",
       "    .dataframe thead th {\n",
       "        text-align: right;\n",
       "    }\n",
       "</style>\n",
       "<table border=\"1\" class=\"dataframe\">\n",
       "  <thead>\n",
       "    <tr style=\"text-align: right;\">\n",
       "      <th></th>\n",
       "      <th>Model</th>\n",
       "      <th>Accuracy</th>\n",
       "      <th>Calibration</th>\n",
       "    </tr>\n",
       "  </thead>\n",
       "  <tbody>\n",
       "    <tr>\n",
       "      <td>0</td>\n",
       "      <td>complete model</td>\n",
       "      <td>0.679671</td>\n",
       "      <td>0.070842</td>\n",
       "    </tr>\n",
       "    <tr>\n",
       "      <td>1</td>\n",
       "      <td>without gender</td>\n",
       "      <td>0.673511</td>\n",
       "      <td>0.043388</td>\n",
       "    </tr>\n",
       "    <tr>\n",
       "      <td>2</td>\n",
       "      <td>without length of stay</td>\n",
       "      <td>0.655031</td>\n",
       "      <td>0.085897</td>\n",
       "    </tr>\n",
       "    <tr>\n",
       "      <td>3</td>\n",
       "      <td>without age</td>\n",
       "      <td>0.599589</td>\n",
       "      <td>0.097473</td>\n",
       "    </tr>\n",
       "    <tr>\n",
       "      <td>4</td>\n",
       "      <td>without prior counts</td>\n",
       "      <td>0.562628</td>\n",
       "      <td>0.066538</td>\n",
       "    </tr>\n",
       "  </tbody>\n",
       "</table>\n",
       "</div>"
      ],
      "text/plain": [
       "                    Model  Accuracy  Calibration\n",
       "0          complete model  0.679671     0.070842\n",
       "1          without gender  0.673511     0.043388\n",
       "2  without length of stay  0.655031     0.085897\n",
       "3             without age  0.599589     0.097473\n",
       "4    without prior counts  0.562628     0.066538"
      ]
     },
     "execution_count": 159,
     "metadata": {},
     "output_type": "execute_result"
    }
   ],
   "source": [
    "pd.DataFrame([['complete model', accuracy_score(y_test, y_test_predict_all), abs(accuracy_AA_all-accuracy_CA_all)],\n",
    "              ['without gender', accuracy_score(y_test, y_test_predict2), abs(accuracy_AA2-accuracy_CA2)], \n",
    "              ['without length of stay', accuracy_score(y_test, y_test_predict3), abs(accuracy_AA3-accuracy_CA3)],\n",
    "              ['without age', accuracy_score(y_test, y_test_predict4), abs(accuracy_AA4-accuracy_CA4)], \n",
    "              ['without prior counts', accuracy_score(y_test, y_test_predict5), abs(accuracy_AA5-accuracy_CA5)]],\n",
    "             columns = ['Model', 'Accuracy', 'Calibration'])"
   ]
  },
  {
   "cell_type": "markdown",
   "metadata": {},
   "source": [
    "**Conclusion**: From the shapley value(Accuracy, Discrimination) and fairness-utility score, we expect the model accuracy decreases from the top complete model to the bottom model without prior counts, and the calibration(discrimination effect) should also decrease as the accuracy decreases. The real result shows the decreasing pattern of accuracy as we expected, but the calibration actually fluctuates, which doesn't meet our expectation. Under our evaluation metrics, the logistic regression model without **gender** would probably be the best model when we consider about accuracy and discrimination effect at the same time. It shows a pretty high accuracy with the lowest calibration(discrimination).\n",
    "\n",
    "There are several possible explanation for the fluctuation of the calibration:\n",
    "\n",
    "1. Fairness-utility scores are pretty close to each other under our several choices of hyperparameters, so that we cannot guarantee removing the feature with lowest score is always better than removing another feature also with very low score.\n",
    "\n",
    "2. The marginal accuracy coefficient and marginal discrimination coefficient of the five features are in the same scales. There is no features with outlying discrimiation score or accuracy score. Therefore we didn't observe remarkable differences under our evaluation metrics.\n",
    "\n",
    "3. Number of test data, proportion of train/test/validation may matters."
   ]
  }
 ],
 "metadata": {
  "kernelspec": {
   "display_name": "Python 3",
   "language": "python",
   "name": "python3"
  },
  "language_info": {
   "codemirror_mode": {
    "name": "ipython",
    "version": 3
   },
   "file_extension": ".py",
   "mimetype": "text/x-python",
   "name": "python",
   "nbconvert_exporter": "python",
   "pygments_lexer": "ipython3",
   "version": "3.7.4"
  }
 },
 "nbformat": 4,
 "nbformat_minor": 5
}
